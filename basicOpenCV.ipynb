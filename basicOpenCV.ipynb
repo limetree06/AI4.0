{
  "cells": [
    {
      "cell_type": "code",
      "execution_count": null,
      "metadata": {
        "id": "tol3_W94A1i-"
      },
      "outputs": [],
      "source": [
        "#https://velog.io/@jaehyeong/OpenCV%EB%A5%BC-%ED%99%9C%EC%9A%A9%ED%95%9C-%EA%B8%B0%EC%B4%88-%EC%9D%B4%EB%AF%B8%EC%A7%80-%EC%B2%98%EB%A6%AC-with-Python\n",
        "#http://pythonstudy.xyz/python/article/409-%ED%8C%8C%EC%9D%B4%EC%8D%AC-%EC%98%81%EC%83%81-%EC%B2%98%EB%A6%AC-OpenCV"
      ]
    },
    {
      "cell_type": "code",
      "source": [
        "from google.colab import drive\n",
        "drive.mount('/content/gdrive')\n",
        "\n",
        "from google.colab.patches import cv2_imshow\n",
        "import cv2\n",
        "import numpy as np\n",
        "img = cv2.imread('/content/gdrive/My Drive/mentoring/cat.jpeg', 3)\n",
        "\n",
        "dst = cv2.resize(img, dsize=(640, 480), interpolation=cv2.INTER_AREA)\n",
        "dst2 = cv2.resize(img, dsize=(0, 0), fx=0.3, fy=0.7, interpolation=cv2.INTER_LINEAR)\n",
        "\n",
        "cv2_imshow(img)"
      ],
      "metadata": {
        "id": "tvl9NQX4A3FC"
      },
      "execution_count": null,
      "outputs": []
    },
    {
      "cell_type": "code",
      "source": [
        "from google.colab import drive\n",
        "drive.mount('/content/gdrive')\n",
        "from google.colab.patches import cv2_imshow\n",
        "import cv2\n",
        "import matplotlib.pyplot as plt\n",
        "img = cv2.imread('/content/gdrive/My Drive/CSE48001/ex.jpg', cv2.IMREAD_GRAYSCALE)\n",
        "img = cv2.resize(img, dsize=(0, 0), fx=0.5, fy=0.5, interpolation=cv2.INTER_LINEAR)\n",
        "cv2.line(img, (200,70), (412,412), (255,0,0), 1)\n",
        "cv2.circle(img, (500,150), 63, (0,0,255), -1)\n",
        "cv2.circle(img, (480,150), 10, (255,255,255), -1)\n",
        "cv2.circle(img, (520,150), 10, (255,255,255), -1)\n",
        "cv2.line(img,(500,200),(540,200),(255,255,255),4)\n",
        "cv2.rectangle(img, (384,0), (510,128), (0,255,0), 3)\n",
        "cv2.ellipse(img, (256,256), (100,50), 45,0,360,(255,255,255),-1)\n",
        "blur1 = cv2.blur(img,(10,100))\n",
        "print(img.shape)\n",
        "cv2_imshow(img)\n",
        "cv2_imshow(blur1)"
      ],
      "metadata": {
        "id": "4zWc9xraBcfL"
      },
      "execution_count": null,
      "outputs": []
    },
    {
      "cell_type": "code",
      "source": [
        "from google.colab import drive\n",
        "drive.mount('/content/gdrive')\n",
        "from google.colab.patches import cv2_imshow\n",
        "import cv2\n",
        "import matplotlib.pyplot as plt\n",
        "img = cv2.imread('/content/gdrive/My Drive/CSE48001/ex.jpg', cv2.IMREAD_COLOR)\n",
        "cv2.line(img, (0,0), (512,512), (255,0,0), 5)\n",
        "small1 = cv2.resize(img, dsize=(600, 400), interpolation=cv2.INTER_AREA)\n",
        "small2 = cv2.resize(img, dsize=(0, 0), fx=0.5, fy=0.5, interpolation=cv2.INTER_LINEAR)\n",
        "\n",
        "\n",
        "print(img.shape)\n",
        "#cv2_imshow(img)\n",
        "#cv2_imshow(small1)\n",
        "cv2_imshow(small2)"
      ],
      "metadata": {
        "id": "l9ZZWcrnBcXH"
      },
      "execution_count": null,
      "outputs": []
    },
    {
      "cell_type": "code",
      "source": [
        "from google.colab import drive\n",
        "drive.mount('/content/gdrive')\n",
        "from google.colab.patches import cv2_imshow\n",
        "import cv2\n",
        "import matplotlib.pyplot as plt\n",
        "img = cv2.imread('/content/gdrive/My Drive/CSE48001/ex.jpg', cv2.IMREAD_)\n",
        "cv2.line(img, (0,0), (512,512), (255,0,0), 5)\n",
        "small1 = cv2.resize(img, dsize=(600, 400), interpolation=cv2.INTER_AREA)\n",
        "small2 = cv2.resize(img, dsize=(0, 0), fx=0.5, fy=0.9, interpolation=cv2.INTER_LINEAR)\n",
        "\n",
        "\n",
        "print(img.shape)\n",
        "cv2_imshow(img)\n",
        "cv2_imshow(small1)\n",
        "cv2_imshow(small2)"
      ],
      "metadata": {
        "id": "OGlzDm99BbvO"
      },
      "execution_count": null,
      "outputs": []
    },
    {
      "cell_type": "code",
      "source": [
        "blur_img = cv2.line(img,(0,0), (511,511), (255,0,0),5)\n",
        "cv2_imshow(blur_img)\n"
      ],
      "metadata": {
        "id": "3acXoxfOA3Ml"
      },
      "execution_count": null,
      "outputs": []
    }
  ],
  "metadata": {
    "language_info": {
      "name": "python"
    },
    "orig_nbformat": 4,
    "colab": {
      "name": "basicOpenCV.ipynb",
      "provenance": []
    }
  },
  "nbformat": 4,
  "nbformat_minor": 0
}