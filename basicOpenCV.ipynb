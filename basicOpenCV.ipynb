{
  "cells": [
    {
      "cell_type": "code",
      "execution_count": null,
      "metadata": {
        "id": "tvl9NQX4A3FC"
      },
      "outputs": [],
      "source": [
        "from google.colab import drive\n",
        "drive.mount('/content/gdrive')\n",
        "\n",
        "from google.colab.patches import cv2_imshow\n",
        "import cv2\n",
        "import numpy as np\n",
        "img = cv2.imread('/content/gdrive/My Drive/mentoring/cat.jpeg', 3)\n",
        "\n",
        "dst = cv2.resize(img, dsize=(640, 480), interpolation=cv2.INTER_AREA)\n",
        "dst2 = cv2.resize(img, dsize=(0, 0), fx=0.3, fy=0.7, interpolation=cv2.INTER_LINEAR)\n",
        "\n",
        "cv2_imshow(img)"
      ]
    },
    {
      "cell_type": "code",
      "execution_count": null,
      "metadata": {
        "id": "4zWc9xraBcfL"
      },
      "outputs": [],
      "source": [
        "img = cv2.imread('/content/gdrive/My Drive/CSE48001/ex.jpg', cv2.IMREAD_GRAYSCALE)\n",
        "img = cv2.resize(img, dsize=(0, 0), fx=0.5, fy=0.5, interpolation=cv2.INTER_LINEAR)\n",
        "cv2.line(img, (200,70), (412,412), (255,0,0), 1)\n",
        "cv2.circle(img, (500,150), 63, (0,0,255), -1)\n",
        "cv2.circle(img, (480,150), 10, (255,255,255), -1)\n",
        "cv2.circle(img, (520,150), 10, (255,255,255), -1)\n",
        "cv2.line(img,(500,200),(540,200),(255,255,255),4)\n",
        "cv2.rectangle(img, (384,0), (510,128), (0,255,0), 3)\n",
        "cv2.ellipse(img, (256,256), (100,50), 45,0,360,(255,255,255),-1)\n",
        "blur1 = cv2.blur(img,(10,100))\n",
        "print(img.shape)\n",
        "cv2_imshow(img)\n",
        "cv2_imshow(blur1)"
      ]
    },
    {
      "cell_type": "code",
      "execution_count": null,
      "metadata": {
        "id": "OGlzDm99BbvO"
      },
      "outputs": [],
      "source": [
        "\n",
        "img = cv2.imread('/content/gdrive/My Drive/CSE48001/ex.jpg', cv2.IMREAD_)\n",
        "cv2.line(img, (0,0), (512,512), (255,0,0), 5)\n",
        "small1 = cv2.resize(img, dsize=(600, 400), interpolation=cv2.INTER_AREA)\n",
        "small2 = cv2.resize(img, dsize=(0, 0), fx=0.5, fy=0.9, interpolation=cv2.INTER_LINEAR)\n",
        "\n",
        "\n",
        "print(img.shape)\n",
        "cv2_imshow(img)\n",
        "cv2_imshow(small1)\n",
        "cv2_imshow(small2)"
      ]
    },
    {
      "cell_type": "code",
      "execution_count": null,
      "metadata": {
        "id": "3acXoxfOA3Ml"
      },
      "outputs": [],
      "source": [
        "blur_img = cv2.line(img,(0,0), (511,511), (255,0,0),5)\n",
        "cv2_imshow(blur_img)"
      ]
    }
  ],
  "metadata": {
    "colab": {
      "name": "basicOpenCV.ipynb",
      "provenance": []
    },
    "language_info": {
      "name": "python"
    },
    "orig_nbformat": 4
  },
  "nbformat": 4,
  "nbformat_minor": 0
}
