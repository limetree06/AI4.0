{
  "cells": [
    {
      "cell_type": "markdown",
      "metadata": {},
      "source": [
        "##  OpenCV"
      ]
    },
    {
      "cell_type": "code",
      "execution_count": null,
      "metadata": {},
      "outputs": [],
      "source": [
        "import cv2\n",
        "\n",
        "#Jupyter notebook 에서 사용하는 imshow 함수가 호환되지 않는 문제로 발생한다. cv2.imshow 함수를 cv2_imshow로 변경한다.\n",
        "from google.colab.patches import cv2_imshow\n",
        "import numpy as np\n",
        "import matplotlib.pyplot as plt"
      ]
    },
    {
      "cell_type": "markdown",
      "metadata": {},
      "source": [
        "### 1. 이미지 로드 - 구글 드라이브와 연결\n",
        "* imread() 함수 이용\n",
        "* imread(경로, 로드 옵션)"
      ]
    },
    {
      "cell_type": "code",
      "execution_count": null,
      "metadata": {
        "id": "tvl9NQX4A3FC"
      },
      "outputs": [],
      "source": [
        "from google.colab import drive\n",
        "drive.mount('/content/gdrive')\n",
        "\n",
        "img = cv2.imread('/content/gdrive/My Drive/mentoring/cat.jpeg', cv2.IMREAD_GRAYSCALE)\n",
        "cv2_imshow(img)\n",
        "\n",
        "img1 = cv2.imread('/content/gdrive/My Drive/mentoring/cat.jpeg', cv2.IMREAD_COLOR)\n",
        "cv2_imshow(img1)\n",
        "\n",
        "img2 = cv2.imread('/content/gdrive/My Drive/mentoring/cat.jpeg', cv2.COLOR_BGR2RGB)\n",
        "cv2_imshow(img2)"
      ]
    },
    {
      "cell_type": "code",
      "execution_count": null,
      "metadata": {},
      "outputs": [],
      "source": [
        "print(image.type)   # numpy.ndarray\n",
        "print(image.shape)\n",
        "print(image) "
      ]
    },
    {
      "cell_type": "markdown",
      "metadata": {},
      "source": [
        "### 2. 이미지 저장\n",
        "* imwrite() 함수이용\n",
        "* imwrite(저장 경로, 저장할 이미지)"
      ]
    },
    {
      "cell_type": "code",
      "execution_count": null,
      "metadata": {},
      "outputs": [],
      "source": [
        "cv2.imwrite('images/new_plane.jpg', image)"
      ]
    },
    {
      "cell_type": "markdown",
      "metadata": {},
      "source": [
        "### 3. 이미지 크기 변경\n",
        "* cv2.resize()함수\n",
        "* cv2.resize(src, dsize, dst=None, fx=None, fy=None, interpolation=None) -> dst\n",
        "\n",
        "• src: 입력 이미지  \n",
        "• dsize: 결과 이미지 크기. (w, h) tuple 데이터 타입. (0, 0)이면 fx와 fy 값을 이용하여 결정.  \n",
        "• fx, fy: x와 y방향 스케일 비율(scale factor). (dsize 값이 0일 때 유효)  "
      ]
    },
    {
      "cell_type": "code",
      "execution_count": null,
      "metadata": {},
      "outputs": [],
      "source": [
        "resized_img = cv2.resize(img, dsize=(640, 480))\n",
        "resized_img1 = cv2.resize(img, dsize=(0, 0), fx=0.3, fy=0.7)\n",
        "cv2_imshow(resized_img)\n",
        "cv2_imshow(resized_img1)"
      ]
    },
    {
      "cell_type": "markdown",
      "metadata": {},
      "source": [
        "### 4. 이미지 자르기(crop)"
      ]
    },
    {
      "cell_type": "code",
      "execution_count": null,
      "metadata": {},
      "outputs": [],
      "source": [
        "image_cropped = img[:,:128]\n",
        "cv2_imshow(image_cropped)"
      ]
    },
    {
      "cell_type": "markdown",
      "metadata": {},
      "source": [
        "### 5. 이미지 blur 처리\n",
        "이미지를 흐리게 하기 위해서는 각 픽셀을 주변 픽셀의 평균값으로 변환하면 되며, 이렇게 주변 픽셀에 수행되는 연산을 커널(kernel)이라고 한다.  \n",
        "커널이 클수록 이미지가 더 부드러워지게 된다.\n",
        "* cv2.blur(image, (5,5))  \n",
        "\n",
        "자주 사용되는 블러 함수로 가우시안 분포를 사용하는 가우시안 블러(GaussianBlur)가 있다.  \n",
        "(그냥 참고) GaussianBlur() 함수의 세 번째 매개변수는 X축(너비) 방향의 표준편차이며, 0으로 지정하면 ((너비-1)0.5-1)0.3+0.8과 같이 계산된다."
      ]
    },
    {
      "cell_type": "code",
      "execution_count": null,
      "metadata": {},
      "outputs": [],
      "source": [
        "img = cv2.imread('/content/gdrive/My Drive/CSE48001/ex.jpg', cv2.IMREAD_GRAYSCALE)\n",
        "blur1 = cv2.blur(img,(5,5))\n",
        "blur2 = cv2.blur(img,(10,10))\n",
        "cv2_imshow(blur1)\n",
        "cv2_imshow(blur2)\n",
        "\n",
        "image_GaussianBlur = cv2.GaussianBlur(img, (5,5), 0)\n",
        "cv2_imshow(image_GaussianBlur)"
      ]
    },
    {
      "cell_type": "markdown",
      "metadata": {},
      "source": [
        "### 6. 이미지 선명하게 표현\n",
        "* (참고) 대상 픽셀을 강조하는 커널을 정의한 후 filter2D() 메소드를 사용하여 이미지에 적용한다.\n",
        "* cv2.filter2D(image, -1, kernel)"
      ]
    },
    {
      "cell_type": "code",
      "execution_count": null,
      "metadata": {},
      "outputs": [],
      "source": [
        "img = cv2.imread('/content/gdrive/My Drive/CSE48001/ex.jpg', cv2.IMREAD_GRAYSCALE)\n",
        "\n",
        "# 커널 생성(대상이 있는 픽셀을 강조)\n",
        "kernel = np.array([[0, -1, 0],\n",
        "                   [-1, 5, -1],\n",
        "                   [0, -1, 0]])\n",
        "\n",
        "# 커널 적용 \n",
        "image_sharp = cv2.filter2D(img, -1, kernel)\n",
        "cv2_imshow(image_sharp)"
      ]
    },
    {
      "cell_type": "markdown",
      "metadata": {},
      "source": [
        "### 7. 도형 그려보기\n",
        "* cv2.line(image, start, end, color, thickness)\n",
        "* cv2.rectangle(image, start, end, color, thickness)\n",
        "    * start: 시작 좌표 (2차원)\n",
        "    * end: 종료 좌표 (2차원)\n",
        "    * thickness: 선의 두께\n",
        "* cv2.circle(image, center, radian, color, thickness)\n",
        "    * center: 원의 중심 (2차원)\n",
        "    * radian: 반지름\n",
        "    * thickness: 선의 두께 (채우기: -1)\n",
        "* cv2.ellipse(image, center, axes, angle, startAngle, endAngle, color, thickness)\n",
        "    * center : 타원의 중심 좌표 (x, y)\n",
        "    * axes : 축의 절반길이(중심에서 긴 거리, 짧은 거리)\n",
        "    * angle : 타원의 기울기\n",
        "    * startAngle : 타원을 그리는 시작 각도\n",
        "    * endAngle : 타원을 그리는 종료 각도\n",
        "* cv2.polylines(image, points, is_closed, color, thickness): 하나의 다각형을 그리는 함수\n",
        "    * points: 꼭지점들\n",
        "    * is_closed: 닫힌 도형 여부\n",
        "    * thickness: 선의 두께 (채우기: -1)\n",
        "* cv2.putText(image, text, position, font_type, font_scale, color): 하나의 텍스트를 그리는 함수\n",
        "    * position: 텍스트가 출력될 위치\n",
        "    * font_type: 글씨체\n",
        "    * font_scale: 글씨 크기 가중치\n"
      ]
    },
    {
      "cell_type": "code",
      "execution_count": null,
      "metadata": {
        "id": "4zWc9xraBcfL"
      },
      "outputs": [],
      "source": [
        "img = cv2.imread('/content/gdrive/My Drive/CSE48001/ex.jpg', cv2.IMREAD_GRAYSCALE)\n",
        "\n",
        "img_line = cv2.line(img, (200,70), (412,412), (255,0,0), 1)\n",
        "img_circle = cv2.circle(img, (500,150), 63, (0,0,255), -1)\n",
        "img_line = cv2.line(img,(500,200),(540,200),(255,255,255),4)\n",
        "img_rectangle = cv2.rectangle(img, (384,0), (510,128), (0,255,0), 3)\n",
        "img_ellipse = cv2.ellipse(img, (256,256), (100,50), 45,0,360,(255,255,255),-1)\n",
        "img_putText = cv2.putText(img, 'Hello World', (0, 200), cv2.FONT_ITALIC, 2, (255, 0, 0))\n",
        "\n",
        "points = np.array([[5, 5], [128, 258], [483, 444], [400, 150]])\n",
        "image = cv2.polylines(img, [points], True, (0, 0, 255), 4)"
      ]
    },
    {
      "cell_type": "code",
      "execution_count": null,
      "metadata": {},
      "outputs": [],
      "source": [
        "#하얀색 도화지\n",
        "image = np.full((512, 512, 3), 255, np.uint8)"
      ]
    }
  ],
  "metadata": {
    "colab": {
      "name": "basicOpenCV.ipynb",
      "provenance": []
    },
    "language_info": {
      "name": "python"
    },
    "orig_nbformat": 4
  },
  "nbformat": 4,
  "nbformat_minor": 0
}
