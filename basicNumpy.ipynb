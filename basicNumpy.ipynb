{
 "cells": [
  {
   "cell_type": "markdown",
   "metadata": {},
   "source": [
    "## numpy?\n",
    "Numpy는 고성능 수치 계산을 위한 라이브러리  \n",
    "Numerical Python의 줄임말이기도 한 Numpy는 **벡터 및 행렬 연산**에 있어서 매우 편리한 기능을 제공함  \n",
    "또한 이는 데이터분석을 할 때 사용되는 라이브러리인 pandas와 matplotlib의 기반으로 사용되기도 함  \n",
    "numpy에서는 기본적으로 array단위로 데이터를 관리하며 이에 대해 연산을 수행함.  "
   ]
  },
  {
   "cell_type": "markdown",
   "metadata": {},
   "source": [
    "#### 1. 넘파이 import 하기\n",
    "사실상, numpy를 설치하고 단순히 import numpy 만 해도 되지만, 이를 코드에서 보다 편하게 사용하기 위해 as np 를 붙임으로써 np라는 이름으로 numpy를 사용합니다."
   ]
  },
  {
   "cell_type": "code",
   "execution_count": null,
   "metadata": {},
   "outputs": [],
   "source": [
    "import numpy as np"
   ]
  },
  {
   "cell_type": "code",
   "execution_count": null,
   "metadata": {},
   "outputs": [],
   "source": [
    "# numpy를 이용하여 array 정의하기\n",
    "data1 = [1,2,3,4,5]\n",
    "data2 = [1,2,3,3.5,4]"
   ]
  },
  {
   "cell_type": "code",
   "execution_count": null,
   "metadata": {},
   "outputs": [],
   "source": [
    "#1. 위에서 만든 python list를 이용, python list를 넣어줌으로써 넘파이 어레이 만들기\n",
    "arr1 = np.array(data1)\n",
    "arr2 = np.array([1,2,3,4,5])"
   ]
  },
  {
   "cell_type": "markdown",
   "metadata": {},
   "source": [
    "### numpy shape\n",
    "numpy에서는 해당 array의 크기를 알 수 있다.  \n",
    "shape 을 확인함으로써 몇개의 데이터가 있는지, 몇 차원으로 존재하는지 등을 확인할 수 있다.  \n",
    "위에서 arr1.shape의 결과는 (5,) 으로써, 1차원의 데이터이며 총 5라는 크기를 갖고 있음을 알 수 있다.\n",
    "arr4.shape의 결과는 (4,3) 으로써, 2차원의 데이터이며 4 * 3 크기를 갖고 있는 array 이다."
   ]
  },
  {
   "cell_type": "code",
   "execution_count": null,
   "metadata": {},
   "outputs": [],
   "source": [
    "arr2.shape #어레이 크기 확인"
   ]
  },
  {
   "cell_type": "markdown",
   "metadata": {},
   "source": [
    "### numpy 자료형\n",
    "arr1이나 arr2는 int64라는 자료형을 갖는 것에 반해 arr3는 float64라는 자료형을 갖는다.  \n",
    "이는 arr3내부 데이터를 살펴보면 3.5라는 실수형 데이터를 갖기 때문임을 알 수 있다.  \n",
    "numpy에서 사용되는 자료형은 아래와 같다.  \n",
    "(자료형 뒤에 붙는 숫자는 몇 비트 크기인지를 의미한다.)  \n",
    "  \n",
    "부호가 있는 정수 - int(8, 16, 32, 64)  \n",
    "부호가 없는 정수 - uint(8 ,16, 32, 54)  \n",
    "실수 - float(16, 32, 64, 128)  \n",
    "복소수 - complex(64, 128, 256)  \n",
    "불리언 - bool  \n",
    "문자열 - string_  \n",
    "파이썬 오프젝트 - object  \n",
    "유니코드 - unicode_  "
   ]
  },
  {
   "cell_type": "code",
   "execution_count": null,
   "metadata": {},
   "outputs": [],
   "source": [
    "arr2.dtype #어레이의 자료형을 확인 할 수 있다"
   ]
  },
  {
   "cell_type": "code",
   "execution_count": null,
   "metadata": {},
   "outputs": [],
   "source": [
    "arr4 = np.array([[1,2,3],[4,5,6],[7,8,9],[10,11,12]])\n",
    "print(arr4)\n",
    "print(arr4.shape)\n",
    "\n",
    "#파이썬 리스트와 동일하게 인덱싱이 적용된다.\n",
    "print(arr1[0:2])\n",
    "print(arr4[0][0])"
   ]
  },
  {
   "cell_type": "markdown",
   "metadata": {},
   "source": [
    "### np.zeros(), np.ones(), np.arange() 함수  \n",
    "numpy에서 array를 정의할 때 사용되는 함수들이다.  \n",
    "np.zeros() - 괄호안에 정의한(함수인자로 받는 크기만큼) 사이즈만큼 모든 요소가 **0**로 채워진 넘파이 어레이를 만든다.  \n",
    "np.ones() - 괄호안에 정의한(함수인자로 받는 크기만큼) 사이즈만큼 **1**로 채워진 넘파이 어레이를 만든다.  \n",
    "np.arange() - 함수는 인자로 받는 값 만큼 1씩 증가하는 1차원 array를 만든다. 이때 하나의 인자만 입력하면 0 ~ 입력한 인자, 값 만큼의 크기를 가진다."
   ]
  },
  {
   "cell_type": "code",
   "execution_count": null,
   "metadata": {},
   "outputs": [],
   "source": [
    "np.zeros(10)\n",
    "np.zeros((3,5))"
   ]
  },
  {
   "cell_type": "markdown",
   "metadata": {},
   "source": [
    "np.ones(9)\n",
    "np.ones((2,10))"
   ]
  },
  {
   "cell_type": "markdown",
   "metadata": {},
   "source": [
    "np.arange(10)\n",
    "np.arange(3,10)"
   ]
  },
  {
   "cell_type": "markdown",
   "metadata": {},
   "source": [
    "### Array 연산\n",
    "기본적으로 numpy에서 연산을 할때는 **크기가 서로 동일한 array** 끼리 연산이 진행된다.  \n",
    "-> 연산전, shape으로 어레이 크기 확인 필수!\n",
    "이때 같은 위치에 있는 요소들 끼리 연산이 진행된다."
   ]
  },
  {
   "cell_type": "code",
   "execution_count": null,
   "metadata": {},
   "outputs": [],
   "source": [
    "arr1 = np.array([[1,2,3],[4,5,6]])\n",
    "arr2 = np.array([[10,11,12],[13,14,15]])"
   ]
  },
  {
   "cell_type": "code",
   "execution_count": null,
   "metadata": {},
   "outputs": [],
   "source": [
    "print(arr1.shape)\n",
    "print(arr2.shape)\n",
    "\n",
    "print(\"덧셈\", arr1 + arr2)\n",
    "print(\"뺄셈\", arr1 - arr2)\n",
    "print(\"곱셈\", arr1 * arr2)\n",
    "print(\"10 곱하기\", arr1 * 10)\n",
    "print(\"제곱\", arr1 ** 2)\n",
    "print(\"나눗셈\", arr1 / arr2)"
   ]
  },
  {
   "cell_type": "markdown",
   "metadata": {},
   "source": [
    "### 알아두면 유용한 Numpy 함수\n",
    "np.random.randn(5,3) -> 난수 생성  \n",
    "np.abs(arr1) -> 절대값계산  \n",
    "np.sqrt(arr1) -> 각 성분의 제곱근 계산  \n",
    "np.square(arr1) -> 각 성분의 제곱 계산하기\n",
    "np.sort() -> 오름차순 정렬"
   ]
  },
  {
   "cell_type": "code",
   "execution_count": null,
   "metadata": {},
   "outputs": [],
   "source": [
    "arr1 = np.random.randn(5,3)\n",
    "print(np.abs(arr1))\n",
    "print(np.sqrt(arr1) )\n",
    "print(np.square(arr1))"
   ]
  },
  {
   "cell_type": "markdown",
   "metadata": {},
   "source": [
    "### Numpy 통계"
   ]
  },
  {
   "cell_type": "code",
   "execution_count": null,
   "metadata": {},
   "outputs": [],
   "source": [
    "arr1 = np.arange(10)\n",
    "arr2 = np.arange([1,2,3],[4,5,6],[7,8,9])\n",
    "\n",
    "print(np.sum(arr1)) #전체 성분의 합을 계산\n",
    "\n",
    "print(np.sum(arr2, axis=1)) #열간의 합을 계산\n",
    "print(np.sum(arr2, axis=0)) #행간의 합을 계산\n",
    "\n",
    "# 전체 성분의 표준편차, 분산, 최소값, 최대값 계산(std, var, min, max)\n",
    "print(np.std(arr1))\n",
    "print(np.var(arr1))\n",
    "print(np.min(arr1))\n",
    "print(np.max(arr1))"
   ]
  }
 ],
 "metadata": {
  "language_info": {
   "name": "python"
  },
  "orig_nbformat": 4
 },
 "nbformat": 4,
 "nbformat_minor": 2
}
