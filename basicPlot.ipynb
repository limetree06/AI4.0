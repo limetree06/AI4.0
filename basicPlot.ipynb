{
 "cells": [
  {
   "cell_type": "markdown",
   "metadata": {},
   "source": [
    "## Matplotlib\n",
    "* 파이썬에서 매트랩과 유사한 **그래프** 표시를 가능케 하는 라이브러리다.\n",
    "    * [Matplotlib Documentation](https://matplotlib.org/stable/contents.html#)"
   ]
  },
  {
   "cell_type": "code",
   "execution_count": null,
   "metadata": {},
   "outputs": [],
   "source": []
  }
 ],
 "metadata": {
  "language_info": {
   "name": "python"
  },
  "orig_nbformat": 4
 },
 "nbformat": 4,
 "nbformat_minor": 2
}
